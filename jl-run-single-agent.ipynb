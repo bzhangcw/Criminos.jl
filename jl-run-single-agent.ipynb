{
 "cells": [
  {
   "cell_type": "markdown",
   "metadata": {},
   "source": [
    "# Model calibration using the trajectory\n",
    "\n",
    "This is the module that using a predefined \"trajectory\" to tune \n",
    "parameters of mixed-in effect"
   ]
  },
  {
   "cell_type": "markdown",
   "metadata": {},
   "source": [
    "<style>\n",
    "    body {\n",
    "        --vscode-font-family: \"Lato\"\n",
    "    }\n",
    "    h1, h2, h3 {\n",
    "        \n",
    "    }\n",
    "</style>\n",
    "<script src=\"https://cdnjs.cloudflare.com/ajax/libs/mathjax/2.7.7/MathJax.js?config=TeX-MML-AM_CHTML\">\n",
    "</script>\n",
    "<script src=\"https://cdn.plot.ly/plotly-2.6.3.min.js\"></script>"
   ]
  },
  {
   "cell_type": "markdown",
   "metadata": {},
   "source": [
    "## Initialization"
   ]
  },
  {
   "cell_type": "code",
   "execution_count": 1,
   "metadata": {},
   "outputs": [
    {
     "name": "stderr",
     "output_type": "stream",
     "text": [
      "\u001b[91m\u001b[1mERROR: \u001b[22m\u001b[39mLoadError: InitError: could not load library \"/Applications/copt70/lib/libcopt.dylib\"\n",
      "dlopen(/Applications/copt70/lib/libcopt.dylib, 0x0001): tried: '/Applications/copt70/lib/libcopt.dylib' (no such file), '/System/Volumes/Preboot/Cryptexes/OS/Applications/copt70/lib/libcopt.dylib' (no such file), '/Applications/copt70/lib/libcopt.dylib' (no such file)\n",
      "Stacktrace:\n",
      "  [1] \u001b[0m\u001b[1m_get_banner\u001b[22m\u001b[0m\u001b[1m(\u001b[22m\u001b[0m\u001b[1m)\u001b[22m\n",
      "\u001b[90m    @\u001b[39m \u001b[35mCOPT\u001b[39m \u001b[90m~/.julia/packages/COPT/lA4VQ/src/\u001b[39m\u001b[90m\u001b[4mCOPT.jl:48\u001b[24m\u001b[39m\n",
      "  [2] \u001b[0m\u001b[1m__init__\u001b[22m\u001b[0m\u001b[1m(\u001b[22m\u001b[0m\u001b[1m)\u001b[22m\n",
      "\u001b[90m    @\u001b[39m \u001b[35mCOPT\u001b[39m \u001b[90m~/.julia/packages/COPT/lA4VQ/src/\u001b[39m\u001b[90m\u001b[4mCOPT.jl:121\u001b[24m\u001b[39m\n",
      "  [3] \u001b[0m\u001b[1mrun_module_init\u001b[22m\u001b[0m\u001b[1m(\u001b[22m\u001b[90mmod\u001b[39m::\u001b[0mModule, \u001b[90mi\u001b[39m::\u001b[0mInt64\u001b[0m\u001b[1m)\u001b[22m\n",
      "\u001b[90m    @\u001b[39m \u001b[90mBase\u001b[39m \u001b[90m./\u001b[39m\u001b[90m\u001b[4mloading.jl:1134\u001b[24m\u001b[39m\n",
      "  [4] \u001b[0m\u001b[1mregister_restored_modules\u001b[22m\u001b[0m\u001b[1m(\u001b[22m\u001b[90msv\u001b[39m::\u001b[0mCore.SimpleVector, \u001b[90mpkg\u001b[39m::\u001b[0mBase.PkgId, \u001b[90mpath\u001b[39m::\u001b[0mString\u001b[0m\u001b[1m)\u001b[22m\n",
      "\u001b[90m    @\u001b[39m \u001b[90mBase\u001b[39m \u001b[90m./\u001b[39m\u001b[90m\u001b[4mloading.jl:1122\u001b[24m\u001b[39m\n",
      "  [5] \u001b[0m\u001b[1m_include_from_serialized\u001b[22m\u001b[0m\u001b[1m(\u001b[22m\u001b[90mpkg\u001b[39m::\u001b[0mBase.PkgId, \u001b[90mpath\u001b[39m::\u001b[0mString, \u001b[90mocachepath\u001b[39m::\u001b[0mString, \u001b[90mdepmods\u001b[39m::\u001b[0mVector\u001b[90m{Any}\u001b[39m\u001b[0m\u001b[1m)\u001b[22m\n",
      "\u001b[90m    @\u001b[39m \u001b[90mBase\u001b[39m \u001b[90m./\u001b[39m\u001b[90m\u001b[4mloading.jl:1067\u001b[24m\u001b[39m\n",
      "  [6] \u001b[0m\u001b[1m_require_search_from_serialized\u001b[22m\u001b[0m\u001b[1m(\u001b[22m\u001b[90mpkg\u001b[39m::\u001b[0mBase.PkgId, \u001b[90msourcepath\u001b[39m::\u001b[0mString, \u001b[90mbuild_id\u001b[39m::\u001b[0mUInt128\u001b[0m\u001b[1m)\u001b[22m\n",
      "\u001b[90m    @\u001b[39m \u001b[90mBase\u001b[39m \u001b[90m./\u001b[39m\u001b[90m\u001b[4mloading.jl:1581\u001b[24m\u001b[39m\n",
      "  [7] \u001b[0m\u001b[1m_require\u001b[22m\u001b[0m\u001b[1m(\u001b[22m\u001b[90mpkg\u001b[39m::\u001b[0mBase.PkgId, \u001b[90menv\u001b[39m::\u001b[0mString\u001b[0m\u001b[1m)\u001b[22m\n",
      "\u001b[90m    @\u001b[39m \u001b[90mBase\u001b[39m \u001b[90m./\u001b[39m\u001b[90m\u001b[4mloading.jl:1938\u001b[24m\u001b[39m\n",
      "  [8] \u001b[0m\u001b[1m__require_prelocked\u001b[22m\u001b[0m\u001b[1m(\u001b[22m\u001b[90muuidkey\u001b[39m::\u001b[0mBase.PkgId, \u001b[90menv\u001b[39m::\u001b[0mString\u001b[0m\u001b[1m)\u001b[22m\n",
      "\u001b[90m    @\u001b[39m \u001b[90mBase\u001b[39m \u001b[90m./\u001b[39m\u001b[90m\u001b[4mloading.jl:1812\u001b[24m\u001b[39m\n",
      "  [9] \u001b[0m\u001b[1m#invoke_in_world#3\u001b[22m\n",
      "\u001b[90m    @\u001b[39m \u001b[90m./\u001b[39m\u001b[90m\u001b[4messentials.jl:926\u001b[24m\u001b[39m\u001b[90m [inlined]\u001b[39m\n",
      " [10] \u001b[0m\u001b[1minvoke_in_world\u001b[22m\n",
      "\u001b[90m    @\u001b[39m \u001b[90m./\u001b[39m\u001b[90m\u001b[4messentials.jl:923\u001b[24m\u001b[39m\u001b[90m [inlined]\u001b[39m\n",
      " [11] \u001b[0m\u001b[1m_require_prelocked\u001b[22m\u001b[0m\u001b[1m(\u001b[22m\u001b[90muuidkey\u001b[39m::\u001b[0mBase.PkgId, \u001b[90menv\u001b[39m::\u001b[0mString\u001b[0m\u001b[1m)\u001b[22m\n",
      "\u001b[90m    @\u001b[39m \u001b[90mBase\u001b[39m \u001b[90m./\u001b[39m\u001b[90m\u001b[4mloading.jl:1803\u001b[24m\u001b[39m\n",
      " [12] \u001b[0m\u001b[1mmacro expansion\u001b[22m\n",
      "\u001b[90m    @\u001b[39m \u001b[90m./\u001b[39m\u001b[90m\u001b[4mloading.jl:1790\u001b[24m\u001b[39m\u001b[90m [inlined]\u001b[39m\n",
      " [13] \u001b[0m\u001b[1mmacro expansion\u001b[22m\n",
      "\u001b[90m    @\u001b[39m \u001b[90m./\u001b[39m\u001b[90m\u001b[4mlock.jl:267\u001b[24m\u001b[39m\u001b[90m [inlined]\u001b[39m\n",
      " [14] \u001b[0m\u001b[1m__require\u001b[22m\u001b[0m\u001b[1m(\u001b[22m\u001b[90minto\u001b[39m::\u001b[0mModule, \u001b[90mmod\u001b[39m::\u001b[0mSymbol\u001b[0m\u001b[1m)\u001b[22m\n",
      "\u001b[90m    @\u001b[39m \u001b[90mBase\u001b[39m \u001b[90m./\u001b[39m\u001b[90m\u001b[4mloading.jl:1753\u001b[24m\u001b[39m\n",
      " [15] \u001b[0m\u001b[1m#invoke_in_world#3\u001b[22m\n",
      "\u001b[90m    @\u001b[39m \u001b[90m./\u001b[39m\u001b[90m\u001b[4messentials.jl:926\u001b[24m\u001b[39m\u001b[90m [inlined]\u001b[39m\n",
      " [16] \u001b[0m\u001b[1minvoke_in_world\u001b[22m\n",
      "\u001b[90m    @\u001b[39m \u001b[90m./\u001b[39m\u001b[90m\u001b[4messentials.jl:923\u001b[24m\u001b[39m\u001b[90m [inlined]\u001b[39m\n",
      " [17] \u001b[0m\u001b[1mrequire\u001b[22m\u001b[0m\u001b[1m(\u001b[22m\u001b[90minto\u001b[39m::\u001b[0mModule, \u001b[90mmod\u001b[39m::\u001b[0mSymbol\u001b[0m\u001b[1m)\u001b[22m\n",
      "\u001b[90m    @\u001b[39m \u001b[90mBase\u001b[39m \u001b[90m./\u001b[39m\u001b[90m\u001b[4mloading.jl:1746\u001b[24m\u001b[39m\n",
      " [18] \u001b[0m\u001b[1minclude\u001b[22m\n",
      "\u001b[90m    @\u001b[39m \u001b[90m./\u001b[39m\u001b[90m\u001b[4mBase.jl:495\u001b[24m\u001b[39m\u001b[90m [inlined]\u001b[39m\n",
      " [19] \u001b[0m\u001b[1minclude_package_for_output\u001b[22m\u001b[0m\u001b[1m(\u001b[22m\u001b[90mpkg\u001b[39m::\u001b[0mBase.PkgId, \u001b[90minput\u001b[39m::\u001b[0mString, \u001b[90mdepot_path\u001b[39m::\u001b[0mVector\u001b[90m{String}\u001b[39m, \u001b[90mdl_load_path\u001b[39m::\u001b[0mVector\u001b[90m{String}\u001b[39m, \u001b[90mload_path\u001b[39m::\u001b[0mVector\u001b[90m{String}\u001b[39m, \u001b[90mconcrete_deps\u001b[39m::\u001b[0mVector\u001b[90m{Pair{Base.PkgId, UInt128}}\u001b[39m, \u001b[90msource\u001b[39m::\u001b[0mString\u001b[0m\u001b[1m)\u001b[22m\n",
      "\u001b[90m    @\u001b[39m \u001b[90mBase\u001b[39m \u001b[90m./\u001b[39m\u001b[90m\u001b[4mloading.jl:2222\u001b[24m\u001b[39m\n",
      " [20] top-level scope\n",
      "\u001b[90m    @\u001b[39m \u001b[90m\u001b[4mstdin:3\u001b[24m\u001b[39m\n",
      "during initialization of module COPT\n",
      "in expression starting at /Users/brent/Documents/recherche/23-fairness/Criminos.jl/src/Criminos.jl:1\n",
      "in expression starting at stdin:3\n"
     ]
    },
    {
     "ename": "ErrorException",
     "evalue": "Failed to precompile Criminos [dee8dd8d-dc08-48fb-8db7-8e301efd132a] to \"/Users/brent/.julia/compiled/v1.10/Criminos/jl_LjUyqV\".",
     "output_type": "error",
     "traceback": [
      "Failed to precompile Criminos [dee8dd8d-dc08-48fb-8db7-8e301efd132a] to \"/Users/brent/.julia/compiled/v1.10/Criminos/jl_LjUyqV\".\n",
      "\n",
      "Stacktrace:\n",
      "  [1] error(s::String)\n",
      "    @ Base ./error.jl:35\n",
      "  [2] compilecache(pkg::Base.PkgId, path::String, internal_stderr::IO, internal_stdout::IO, keep_loaded_modules::Bool)\n",
      "    @ Base ./loading.jl:2468\n",
      "  [3] compilecache\n",
      "    @ ./loading.jl:2340 [inlined]\n",
      "  [4] (::Base.var\"#968#969\"{Base.PkgId})()\n",
      "    @ Base ./loading.jl:1974\n",
      "  [5] mkpidlock(f::Base.var\"#968#969\"{Base.PkgId}, at::String, pid::Int32; kwopts::@Kwargs{stale_age::Int64, wait::Bool})\n",
      "    @ FileWatching.Pidfile /Applications/Julia-1.10.app/Contents/Resources/julia/share/julia/stdlib/v1.10/FileWatching/src/pidfile.jl:93\n",
      "  [6] #mkpidlock#6\n",
      "    @ /Applications/Julia-1.10.app/Contents/Resources/julia/share/julia/stdlib/v1.10/FileWatching/src/pidfile.jl:88 [inlined]\n",
      "  [7] trymkpidlock(::Function, ::Vararg{Any}; kwargs::@Kwargs{stale_age::Int64})\n",
      "    @ FileWatching.Pidfile /Applications/Julia-1.10.app/Contents/Resources/julia/share/julia/stdlib/v1.10/FileWatching/src/pidfile.jl:111\n",
      "  [8] #invokelatest#2\n",
      "    @ ./essentials.jl:894 [inlined]\n",
      "  [9] invokelatest\n",
      "    @ ./essentials.jl:889 [inlined]\n",
      " [10] maybe_cachefile_lock(f::Base.var\"#968#969\"{Base.PkgId}, pkg::Base.PkgId, srcpath::String; stale_age::Int64)\n",
      "    @ Base ./loading.jl:2983\n",
      " [11] maybe_cachefile_lock\n",
      "    @ ./loading.jl:2980 [inlined]\n",
      " [12] _require(pkg::Base.PkgId, env::String)\n",
      "    @ Base ./loading.jl:1970\n",
      " [13] __require_prelocked(uuidkey::Base.PkgId, env::String)\n",
      "    @ Base ./loading.jl:1812\n",
      " [14] #invoke_in_world#3\n",
      "    @ ./essentials.jl:926 [inlined]\n",
      " [15] invoke_in_world\n",
      "    @ ./essentials.jl:923 [inlined]\n",
      " [16] _require_prelocked(uuidkey::Base.PkgId, env::String)\n",
      "    @ Base ./loading.jl:1803\n",
      " [17] macro expansion\n",
      "    @ ./loading.jl:1790 [inlined]\n",
      " [18] macro expansion\n",
      "    @ ./lock.jl:267 [inlined]\n",
      " [19] __require(into::Module, mod::Symbol)\n",
      "    @ Base ./loading.jl:1753\n",
      " [20] #invoke_in_world#3\n",
      "    @ ./essentials.jl:926 [inlined]\n",
      " [21] invoke_in_world\n",
      "    @ ./essentials.jl:923 [inlined]\n",
      " [22] require(into::Module, mod::Symbol)\n",
      "    @ Base ./loading.jl:1746\n",
      " [23] eval\n",
      "    @ ./boot.jl:385 [inlined]\n",
      " [24] include_string(mapexpr::typeof(REPL.softscope), mod::Module, code::String, filename::String)\n",
      "    @ Base ./loading.jl:2076\n",
      " [25] #invokelatest#2\n",
      "    @ ./essentials.jl:892 [inlined]\n",
      " [26] invokelatest\n",
      "    @ ./essentials.jl:889 [inlined]\n",
      " [27] (::VSCodeServer.var\"#217#218\"{VSCodeServer.NotebookRunCellArguments, String})()\n",
      "    @ VSCodeServer ~/.cursor/extensions/julialang.language-julia-1.127.2/scripts/packages/VSCodeServer/src/serve_notebook.jl:24\n",
      " [28] withpath(f::VSCodeServer.var\"#217#218\"{VSCodeServer.NotebookRunCellArguments, String}, path::String)\n",
      "    @ VSCodeServer ~/.cursor/extensions/julialang.language-julia-1.127.2/scripts/packages/VSCodeServer/src/repl.jl:276\n",
      " [29] notebook_runcell_request(conn::VSCodeServer.JSONRPC.JSONRPCEndpoint{Base.PipeEndpoint, Base.PipeEndpoint}, params::VSCodeServer.NotebookRunCellArguments)\n",
      "    @ VSCodeServer ~/.cursor/extensions/julialang.language-julia-1.127.2/scripts/packages/VSCodeServer/src/serve_notebook.jl:13\n",
      " [30] dispatch_msg(x::VSCodeServer.JSONRPC.JSONRPCEndpoint{Base.PipeEndpoint, Base.PipeEndpoint}, dispatcher::VSCodeServer.JSONRPC.MsgDispatcher, msg::Dict{String, Any})\n",
      "    @ VSCodeServer.JSONRPC ~/.cursor/extensions/julialang.language-julia-1.127.2/scripts/packages/JSONRPC/src/typed.jl:67\n",
      " [31] serve_notebook(pipename::String, debugger_pipename::String, outputchannel_logger::Base.CoreLogging.SimpleLogger; error_handler::var\"#5#10\"{String})\n",
      "    @ VSCodeServer ~/.cursor/extensions/julialang.language-julia-1.127.2/scripts/packages/VSCodeServer/src/serve_notebook.jl:147\n",
      " [32] top-level scope\n",
      "    @ ~/.cursor/extensions/julialang.language-julia-1.127.2/scripts/notebook/notebook.jl:35"
     ]
    }
   ],
   "source": [
    "ENV[\"CRIMINOS_CONF\"] = \"confs/conf_single_nij.yaml\"\n",
    "ENV[\"CRIMINOS_ALIAS\"] = \"test\"\n",
    "Base.istextmime(::MIME\"application/vnd.plotly.v1+json\") = true\n",
    "using Revise\n",
    "using ForwardDiff\n",
    "using LinearAlgebra\n",
    "using Random\n",
    "using Printf\n",
    "using LaTeXStrings\n",
    "using JuMP\n",
    "using Criminos\n",
    "using Plots\n",
    "using Gurobi\n",
    "using ProgressMeter\n",
    "using ColorSchemes\n",
    "\n",
    "using CSV, Tables, DataFrames, YAML\n",
    "\n",
    "include(\"./conf.jl\")\n",
    "include(\"./tools.jl\")\n",
    "\n",
    "# yaml = YAML.load_file(\"ipynb/nij-simulation.0.15.yaml\")\n",
    "# yaml = yaml2 = YAML.load_file(\"ipynb/nij-simulation.0.15.yaml\")\n",
    "yaml = yaml2 = YAML.load_file(\"ipynb/nij-simulation.yaml\")\n",
    "\n",
    "\n",
    "# maximum number of time periods used in the estimation\n",
    "Tₘ = 50\n",
    "\n",
    "data_fixed = AgentData(yaml, Tₘ)\n",
    "data_simulation = AgentData(yaml2, Tₘ; n=data_fixed.n)"
   ]
  },
  {
   "cell_type": "code",
   "execution_count": 2,
   "metadata": {},
   "outputs": [
    {
     "ename": "UndefVarError",
     "evalue": "UndefVarError: `data_simulation` not defined",
     "output_type": "error",
     "traceback": [
      "UndefVarError: `data_simulation` not defined\n",
      "\n",
      "Stacktrace:\n",
      " [1] top-level scope\n",
      "   @ ~/Documents/recherche/23-fairness/Criminos.jl/jl_notebook_cell_df34fa98e69747e1a8f8a730347b8e2f_W4sZmlsZQ==.jl:1"
     ]
    }
   ],
   "source": [
    "data_simulation.γ"
   ]
  },
  {
   "cell_type": "markdown",
   "metadata": {},
   "source": [
    "## Start"
   ]
  },
  {
   "cell_type": "markdown",
   "metadata": {},
   "source": [
    "> agent-based simulation results"
   ]
  },
  {
   "cell_type": "code",
   "execution_count": 3,
   "metadata": {},
   "outputs": [
    {
     "ename": "UndefVarError",
     "evalue": "UndefVarError: `data_fixed` not defined",
     "output_type": "error",
     "traceback": [
      "UndefVarError: `data_fixed` not defined\n",
      "\n",
      "Stacktrace:\n",
      " [1] top-level scope\n",
      "   @ ~/Documents/recherche/23-fairness/Criminos.jl/jl_notebook_cell_df34fa98e69747e1a8f8a730347b8e2f_X10sZmlsZQ==.jl:1"
     ]
    }
   ],
   "source": [
    "n = data_fixed.n"
   ]
  },
  {
   "cell_type": "code",
   "execution_count": 4,
   "metadata": {},
   "outputs": [
    {
     "ename": "UndefVarError",
     "evalue": "UndefVarError: `data_fixed` not defined",
     "output_type": "error",
     "traceback": [
      "UndefVarError: `data_fixed` not defined\n",
      "\n",
      "Stacktrace:\n",
      " [1] top-level scope\n",
      "   @ ~/Documents/recherche/23-fairness/Criminos.jl/jl_notebook_cell_df34fa98e69747e1a8f8a730347b8e2f_X11sZmlsZQ==.jl:1"
     ]
    }
   ],
   "source": [
    "data_fixed.traj_x"
   ]
  },
  {
   "cell_type": "markdown",
   "metadata": {},
   "source": [
    "### Initialization and override the parameters of $\\Psi$"
   ]
  },
  {
   "cell_type": "code",
   "execution_count": 5,
   "metadata": {},
   "outputs": [
    {
     "ename": "UndefVarError",
     "evalue": "UndefVarError: `data_fixed` not defined",
     "output_type": "error",
     "traceback": [
      "UndefVarError: `data_fixed` not defined\n",
      "\n",
      "Stacktrace:\n",
      " [1] top-level scope\n",
      "   @ ~/Documents/recherche/23-fairness/Criminos.jl/jl_notebook_cell_df34fa98e69747e1a8f8a730347b8e2f_X13sZmlsZQ==.jl:1"
     ]
    }
   ],
   "source": [
    "data = data_fixed\n",
    "include(\"./init.jl\")\n",
    "# baseline policy\n",
    "for _z in vec_z\n",
    "    _z.τ .= 0.3\n",
    "end\n",
    "vec_Ψ[1].γ = data.γ\n",
    "vec_Ψ[1].λ = data.λ\n",
    "# vec_Ψ[1].λ[1] = 497.26\n",
    "vec_Ψ[1].Γ = diagm(data.γ)\n",
    "vec_Ψ[1].Γₕ = vec_Ψ[1].M * vec_Ψ[1].Γ\n",
    "vec_z[1].x .= data.traj_x[:, 1]\n",
    "vec_z[1].x₋ .= data.traj_x[:, 1]\n",
    "vec_z[1].y = data.traj_y[:, 1]"
   ]
  },
  {
   "cell_type": "code",
   "execution_count": 6,
   "metadata": {},
   "outputs": [
    {
     "ename": "UndefVarError",
     "evalue": "UndefVarError: `Criminos` not defined",
     "output_type": "error",
     "traceback": [
      "UndefVarError: `Criminos` not defined\n",
      "\n",
      "Stacktrace:\n",
      " [1] top-level scope\n",
      "   @ ~/Documents/recherche/23-fairness/Criminos.jl/jl_notebook_cell_df34fa98e69747e1a8f8a730347b8e2f_X14sZmlsZQ==.jl:1"
     ]
    }
   ],
   "source": [
    "Criminos.default_barrier_option.μ"
   ]
  },
  {
   "cell_type": "markdown",
   "metadata": {},
   "source": [
    "## Fitting"
   ]
  },
  {
   "cell_type": "code",
   "execution_count": 7,
   "metadata": {},
   "outputs": [
    {
     "ename": "UndefVarError",
     "evalue": "UndefVarError: `fit_trajectory` not defined",
     "output_type": "error",
     "traceback": [
      "UndefVarError: `fit_trajectory` not defined\n",
      "\n",
      "Stacktrace:\n",
      " [1] top-level scope\n",
      "   @ ~/Documents/recherche/23-fairness/Criminos.jl/jl_notebook_cell_df34fa98e69747e1a8f8a730347b8e2f_X16sZmlsZQ==.jl:1"
     ]
    }
   ],
   "source": [
    "_args = (ω∇ω, G, md, _H, _g) = fit_trajectory(data, vec_Ψ)"
   ]
  },
  {
   "cell_type": "code",
   "execution_count": 8,
   "metadata": {},
   "outputs": [
    {
     "ename": "UndefVarError",
     "evalue": "UndefVarError: `_H` not defined",
     "output_type": "error",
     "traceback": [
      "UndefVarError: `_H` not defined\n",
      "\n",
      "Stacktrace:\n",
      " [1] top-level scope\n",
      "   @ ~/Documents/recherche/23-fairness/Criminos.jl/jl_notebook_cell_df34fa98e69747e1a8f8a730347b8e2f_X20sZmlsZQ==.jl:1"
     ]
    }
   ],
   "source": [
    "_H, _g"
   ]
  },
  {
   "cell_type": "markdown",
   "metadata": {},
   "source": [
    "## Using fitted params at fixed control $\\tau$"
   ]
  },
  {
   "cell_type": "code",
   "execution_count": 9,
   "metadata": {},
   "outputs": [
    {
     "ename": "UndefVarError",
     "evalue": "UndefVarError: `K` not defined",
     "output_type": "error",
     "traceback": [
      "UndefVarError: `K` not defined\n",
      "\n",
      "Stacktrace:\n",
      " [1] top-level scope\n",
      "   @ ~/Documents/recherche/23-fairness/Criminos.jl/jl_notebook_cell_df34fa98e69747e1a8f8a730347b8e2f_X22sZmlsZQ==.jl:5"
     ]
    }
   ],
   "source": [
    "Fp(vec_z) = F!(\n",
    "    vec_z, vec_Ψ;\n",
    "    fₜ=Criminos.decision_identity!, targs=(cₜ, cc.τₗ, cc.τₕ),\n",
    "    fₘ=cc.style_mixin, margs=_args,\n",
    ")\n",
    "kₑ, ε, traj, bool_opt = Criminos.simulate(\n",
    "    vec_z, vec_Ψ, Fp; K=K,\n",
    "    metrics=metrics,\n",
    "    tol=1e-7\n",
    ");"
   ]
  },
  {
   "cell_type": "code",
   "execution_count": 10,
   "metadata": {},
   "outputs": [
    {
     "ename": "UndefVarError",
     "evalue": "UndefVarError: `ε` not defined",
     "output_type": "error",
     "traceback": [
      "UndefVarError: `ε` not defined\n",
      "\n",
      "Stacktrace:\n",
      " [1] top-level scope\n",
      "   @ ~/Documents/recherche/23-fairness/Criminos.jl/jl_notebook_cell_df34fa98e69747e1a8f8a730347b8e2f_X23sZmlsZQ==.jl:1"
     ]
    }
   ],
   "source": [
    "plot_convergence(ε, vec_z |> length)\n",
    "# the equilibria\n",
    "r = traj[end][1]"
   ]
  },
  {
   "cell_type": "markdown",
   "metadata": {},
   "source": [
    "#### Visualize"
   ]
  },
  {
   "cell_type": "code",
   "execution_count": 11,
   "metadata": {},
   "outputs": [
    {
     "ename": "UndefVarError",
     "evalue": "UndefVarError: `plot_fitting_results` not defined",
     "output_type": "error",
     "traceback": [
      "UndefVarError: `plot_fitting_results` not defined\n",
      "\n",
      "Stacktrace:\n",
      " [1] top-level scope\n",
      "   @ ~/Documents/recherche/23-fairness/Criminos.jl/jl_notebook_cell_df34fa98e69747e1a8f8a730347b8e2f_X25sZmlsZQ==.jl:1"
     ]
    }
   ],
   "source": [
    "figs_vis = plot_fitting_results(data, r; bool_pdf=false);"
   ]
  },
  {
   "cell_type": "code",
   "execution_count": 12,
   "metadata": {},
   "outputs": [
    {
     "ename": "UndefVarError",
     "evalue": "UndefVarError: `figs_vis` not defined",
     "output_type": "error",
     "traceback": [
      "UndefVarError: `figs_vis` not defined\n",
      "\n",
      "Stacktrace:\n",
      " [1] top-level scope\n",
      "   @ ~/Documents/recherche/23-fairness/Criminos.jl/jl_notebook_cell_df34fa98e69747e1a8f8a730347b8e2f_X26sZmlsZQ==.jl:1"
     ]
    }
   ],
   "source": [
    "plot(figs_vis[1], figs_vis[2])"
   ]
  },
  {
   "cell_type": "code",
   "execution_count": 13,
   "metadata": {},
   "outputs": [
    {
     "ename": "UndefVarError",
     "evalue": "UndefVarError: `figs_vis` not defined",
     "output_type": "error",
     "traceback": [
      "UndefVarError: `figs_vis` not defined\n",
      "\n",
      "Stacktrace:\n",
      " [1] top-level scope\n",
      "   @ ~/Documents/recherche/23-fairness/Criminos.jl/jl_notebook_cell_df34fa98e69747e1a8f8a730347b8e2f_X30sZmlsZQ==.jl:1"
     ]
    }
   ],
   "source": [
    "plot(figs_vis[3], figs_vis[4])"
   ]
  },
  {
   "cell_type": "code",
   "execution_count": 14,
   "metadata": {},
   "outputs": [],
   "source": [
    "# savefig(fig, \"nij-simulation-y.pdf\")\n",
    "# savefig(fig1, \"nij-simulation-x.pdf\")\n",
    "# savefig(fig2, \"nij-simulation-y-prog.pdf\")\n",
    "# savefig(fig3, \"nij-simulation-x-prog.pdf\")"
   ]
  },
  {
   "cell_type": "markdown",
   "metadata": {},
   "source": [
    "## Dynamic control "
   ]
  },
  {
   "cell_type": "code",
   "execution_count": 15,
   "metadata": {},
   "outputs": [
    {
     "ename": "UndefVarError",
     "evalue": "UndefVarError: `K` not defined",
     "output_type": "error",
     "traceback": [
      "UndefVarError: `K` not defined\n",
      "\n",
      "Stacktrace:\n",
      " [1] top-level scope\n",
      "   @ ~/Documents/recherche/23-fairness/Criminos.jl/jl_notebook_cell_df34fa98e69747e1a8f8a730347b8e2f_X33sZmlsZQ==.jl:5"
     ]
    }
   ],
   "source": [
    "Fp(vec_z) = F!(\n",
    "    vec_z, vec_Ψ;\n",
    "    fₜ=Criminos.decision_priority_by_opt!, targs=(cₜ, cc.τₗ, cc.τₕ),\n",
    "    fₘ=cc.style_mixin, margs=_args,\n",
    ")\n",
    "kₑ, ε, traj, bool_opt = Criminos.simulate(\n",
    "    vec_z, vec_Ψ, Fp; K=K,\n",
    "    metrics=metrics,\n",
    "    tol=1e-7\n",
    ");"
   ]
  },
  {
   "cell_type": "code",
   "execution_count": 16,
   "metadata": {},
   "outputs": [
    {
     "ename": "UndefVarError",
     "evalue": "UndefVarError: `traj` not defined",
     "output_type": "error",
     "traceback": [
      "UndefVarError: `traj` not defined\n",
      "\n",
      "Stacktrace:\n",
      " [1] macro expansion\n",
      "   @ logging.jl:372 [inlined]\n",
      " [2] top-level scope\n",
      "   @ ~/Documents/recherche/23-fairness/Criminos.jl/jl_notebook_cell_df34fa98e69747e1a8f8a730347b8e2f_X34sZmlsZQ==.jl:1"
     ]
    }
   ],
   "source": [
    "@info \"\"\"sanity check \n",
    "$(abs.(Criminos.decision_priority!(traj[end][1], vec_Ψ[1]; args=(cₜ, cc.τₗ, cc.τₕ)) - traj[end][1].I) |> maximum)\n",
    "\"\"\""
   ]
  },
  {
   "cell_type": "code",
   "execution_count": 17,
   "metadata": {},
   "outputs": [
    {
     "ename": "UndefVarError",
     "evalue": "UndefVarError: `cc` not defined",
     "output_type": "error",
     "traceback": [
      "UndefVarError: `cc` not defined\n",
      "\n",
      "Stacktrace:\n",
      " [1] top-level scope\n",
      "   @ ~/Documents/recherche/23-fairness/Criminos.jl/jl_notebook_cell_df34fa98e69747e1a8f8a730347b8e2f_X35sZmlsZQ==.jl:1"
     ]
    }
   ],
   "source": [
    "fig = generate_empty(cc.bool_use_html)\n",
    "plot!(\n",
    "    1:n, traj[end][1].y,\n",
    "    labels=L\"$\\rho_T$\",\n",
    "    linestyle=:dot,\n",
    "    color=series_color[1],\n",
    "    linewidth=3,\n",
    ")\n",
    "plot!(\n",
    "    1:n, data.traj_y_lb[:,end], fillrange=data.traj_y_ub[:,end],\n",
    "    labels=L\"$\\bar \\rho_T\",\n",
    "    fillalpha=0.3,\n",
    "    linestyle=:dot,\n",
    "    color=series_color[1],\n",
    ")\n",
    "fig"
   ]
  },
  {
   "cell_type": "code",
   "execution_count": 18,
   "metadata": {},
   "outputs": [
    {
     "ename": "UndefVarError",
     "evalue": "UndefVarError: `cc` not defined",
     "output_type": "error",
     "traceback": [
      "UndefVarError: `cc` not defined\n"
     ]
    }
   ],
   "source": [
    "cc"
   ]
  },
  {
   "cell_type": "code",
   "execution_count": 19,
   "metadata": {},
   "outputs": [
    {
     "ename": "UndefVarError",
     "evalue": "UndefVarError: `traj` not defined",
     "output_type": "error",
     "traceback": [
      "UndefVarError: `traj` not defined\n",
      "\n",
      "Stacktrace:\n",
      " [1] top-level scope\n",
      "   @ ~/Documents/recherche/23-fairness/Criminos.jl/jl_notebook_cell_df34fa98e69747e1a8f8a730347b8e2f_X40sZmlsZQ==.jl:1"
     ]
    }
   ],
   "source": [
    "[traj[end][1].τ r.τ]"
   ]
  }
 ],
 "metadata": {
  "kernelspec": {
   "display_name": "Julia 1.10.3",
   "language": "julia",
   "name": "julia-1.10"
  },
  "language_info": {
   "file_extension": ".jl",
   "mimetype": "application/julia",
   "name": "julia",
   "version": "1.10.3"
  }
 },
 "nbformat": 4,
 "nbformat_minor": 2
}
