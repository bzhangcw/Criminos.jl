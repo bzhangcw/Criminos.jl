{
 "cells": [
  {
   "cell_type": "markdown",
   "metadata": {},
   "source": [
    "# Model calibration using the equilibria\n",
    "\n",
    "This is the module that using a predefined \"equilibrium\" to tune \n",
    "parameters of mixed-in effect"
   ]
  },
  {
   "cell_type": "markdown",
   "metadata": {},
   "source": [
    "## Fitting"
   ]
  },
  {
   "cell_type": "code",
   "execution_count": 1,
   "metadata": {},
   "outputs": [],
   "source": [
    "ENV[\"CRIMINOS_CONF\"] = \"confs/conf_single_nij.yaml\"\n",
    "ENV[\"CRIMINOS_ALIAS\"] = \"test\"\n",
    "Base.istextmime(::MIME\"application/vnd.plotly.v1+json\") = true"
   ]
  },
  {
   "cell_type": "code",
   "execution_count": 3,
   "metadata": {},
   "outputs": [
    {
     "name": "stdout",
     "output_type": "stream",
     "text": [
      "Cardinal Optimizer v7.0.6. Build date Jan 16 2024\n",
      "Copyright Cardinal Operations 2023. All Rights Reserved\n",
      "Cardinal Optimizer v7.0.6. Build date Jan 16 2024\n",
      "Copyright Cardinal Operations 2023. All Rights Reserved\n",
      "--------------------------------------------------------------------------------\n",
      "config_dir: confs/conf_single_nij.yaml\n",
      "result_dir: result-20241112/test\n",
      "--------------------------------------------------------------------------------\n",
      "--------------------------------------------------------------------------------\n",
      "Simulation Style Configs:\n",
      "\n",
      "--------------------------------------------------------------------------------\n",
      "total number of slots: 18\n"
     ]
    },
    {
     "data": {
      "text/plain": [
       "OrderedCollections.OrderedDict{Any, Any} with 23 entries:\n",
       "  \"R\"                            => 1\n",
       "  \"bool_compute\"                 => false\n",
       "  \"bool_conv\"                    => true\n",
       "  \"bool_init\"                    => true\n",
       "  \"bool_plot_surface\"            => false\n",
       "  \"bool_plot_trajectory\"         => false\n",
       "  \"bool_use_html\"                => true\n",
       "  \"group_montonicity\"            => [0, 0]\n",
       "  \"group_new_ratio\"              => [1, 4]\n",
       "  \"group_size\"                   => [1, 6]\n",
       "  \"output_dir\"                   => \"result-20241112/test\"\n",
       "  \"seed_number\"                  => 1\n",
       "  \"style_correlation\"            => \"nothing\"\n",
       "  \"style_correlation_psd\"        => true\n",
       "  \"style_correlation_seed\"       => \"rand\"\n",
       "  \"style_correlation_subp\"       => false\n",
       "  \"style_decision\"               => \"decision_identity!\"\n",
       "  \"style_mixin\"                  => \"mixed_in_gnep_best!\"\n",
       "  \"style_mixin_monotonicity\"     => 2\n",
       "  ⋮                              => ⋮"
      ]
     },
     "metadata": {},
     "output_type": "display_data"
    },
    {
     "data": {
      "text/plain": [
       "plot_fitting_results (generic function with 1 method)"
      ]
     },
     "metadata": {},
     "output_type": "display_data"
    }
   ],
   "source": [
    "using Revise\n",
    "using ForwardDiff\n",
    "using LinearAlgebra\n",
    "using Random\n",
    "using Printf\n",
    "using LaTeXStrings\n",
    "using JuMP\n",
    "using Criminos\n",
    "using Plots\n",
    "using Gurobi\n",
    "using ProgressMeter\n",
    "using ColorSchemes\n",
    "using CSV, Tables, DataFrames, YAML\n",
    "\n",
    "\n",
    "plotly()\n",
    "\n",
    "include(\"./conf.jl\")\n",
    "include(\"./tools.jl\")"
   ]
  },
  {
   "cell_type": "code",
   "execution_count": 7,
   "metadata": {},
   "outputs": [
    {
     "data": {
      "text/plain": [
       "(Criminos.DecisionOption(nothing, nothing, nothing, nothing, nothing, false, false, A JuMP Model\n",
       "├ solver: COPT\n",
       "├ objective_sense: FEASIBILITY_SENSE\n",
       "├ num_variables: 0\n",
       "├ num_constraints: 0\n",
       "└ Names registered in the model: none), Criminos.DecisionOption(nothing, nothing, nothing, nothing, nothing, false, true, A JuMP Model\n",
       "├ solver: Mosek\n",
       "├ objective_sense: FEASIBILITY_SENSE\n",
       "├ num_variables: 0\n",
       "├ num_constraints: 0\n",
       "└ Names registered in the model: none))"
      ]
     },
     "metadata": {},
     "output_type": "display_data"
    }
   ],
   "source": [
    "default_decision_option, default_decision_conic_option"
   ]
  },
  {
   "cell_type": "markdown",
   "metadata": {},
   "source": [
    "> raw data from NIJ statistics"
   ]
  },
  {
   "cell_type": "code",
   "execution_count": 8,
   "metadata": {},
   "outputs": [
    {
     "name": "stderr",
     "output_type": "stream",
     "text": [
      "┌ Info: reset size to\n",
      "│ n: 17\n",
      "│ R: 1\n",
      "│ N: 17 \n",
      "└ @ Main /Users/brent/Library/Mobile Documents/com~apple~CloudDocs/Documents/recherche/docs-fairness/Criminos.jl/tools.jl:13\n",
      "┌ Info: baseline\n",
      "│   _z.τ = [0.18885672937771347, 0.19874804381846634, 0.23255813953488372, 0.2631210636808957, 0.2758169934640523, 0.29528718703976436, 0.3070175438596491, 0.32970225127087877, 0.3469860896445131, 0.3564102564102564, 0.34135472370766484, 0.36964618249534453, 0.36634844868735084, 0.4065573770491803, 0.4393939393939394, 0.49350649350649345, 0.5]\n",
      "└ @ Main /Users/brent/Library/Mobile Documents/com~apple~CloudDocs/Documents/recherche/docs-fairness/Criminos.jl/jl-run-single-equilibria.ipynb:23\n"
     ]
    }
   ],
   "source": [
    "yaml = YAML.load_file(\"ipynb/nij-equilibria.yaml\")\n",
    "xₛ = yaml[\"x1\"] ./ 20\n",
    "yₛ = yaml[\"y1\"] ./ 20\n",
    "ρₛ = yaml[\"ρ1\"]\n",
    "n = xₛ |> length\n",
    "reset_size(n, cc.R)\n",
    "Σ = hcat(yaml[\"Σ\"]...) * 5 + 1e-1 * diagm(ones(cc.N))\n",
    "Σ₁ = Σ |> copy\n",
    "Σ₂ = Σ |> copy;\n",
    "\n",
    "include(\"./init.jl\")\n",
    "\n",
    "for idx in 1:cc.R\n",
    "    if cc.group_montonicity[idx] == 0\n",
    "        Σ₁[(idx-1)*n+1:idx*n, (idx-1)*n+1:idx*n] .= 0\n",
    "    elseif cc.group_montonicity[idx] == 1\n",
    "        Σ₂[(idx-1)*n+1:idx*n, (idx-1)*n+1:idx*n] .= 0\n",
    "    end\n",
    "end\n",
    "# baseline\n",
    "for _z in vec_z\n",
    "    _z.τ .= yₛ ./ xₛ\n",
    "    @info \"baseline\" _z.τ\n",
    "end"
   ]
  },
  {
   "cell_type": "code",
   "execution_count": 9,
   "metadata": {},
   "outputs": [
    {
     "name": "stderr",
     "output_type": "stream",
     "text": [
      "┌ Info: keep correlation matrix as it is\n",
      "└ @ Criminos /Users/brent/Library/Mobile Documents/com~apple~CloudDocs/Documents/recherche/docs-fairness/Criminos.jl/src/fit.jl:59\n",
      "┌ Info: fitting at equilibria by (x, y)\n",
      "└ @ Criminos /Users/brent/Library/Mobile Documents/com~apple~CloudDocs/Documents/recherche/docs-fairness/Criminos.jl/src/fit.jl:178\n"
     ]
    },
    {
     "name": "stdout",
     "output_type": "stream",
     "text": [
      "Model fingerprint: 26518713\n",
      "\n",
      "Using Cardinal Optimizer v7.0.6 on macOS (aarch64)\n",
      "Hardware has 8 cores and 8 threads. Using instruction set ARMV8 (30)\n",
      "Maximizing an LP problem\n",
      "\n",
      "The original problem has:\n",
      "    69 rows, 170 columns and 220 non-zero elements\n",
      "The presolved problem has:\n",
      "    4 rows, 14 columns and 20 non-zero elements\n",
      "\n",
      "Starting the simplex solver using up to 8 threads\n",
      "\n",
      "Method   Iteration           Objective  Primal.NInf   Dual.NInf        Time\n",
      "Dual-I           0   -5.0339184474e+01            4           7       0.00s\n",
      "Dual-I           4    0.0000000000e+00            0           0       0.00s\n",
      "Dual             4   -3.4969790661e+01            0           0       0.00s\n",
      "Postsolving\n",
      "Dual             4   -3.4969790661e+01            0           0       0.00s\n",
      "\n",
      "Solving finished\n",
      "Status: Optimal  Objective: -3.4969790661e+01  Iterations: 4  Time: 0.00s\n"
     ]
    },
    {
     "name": "stderr",
     "output_type": "stream",
     "text": [
      "┌ Info: \n",
      "│   maximum(abs.(y - yₛ)) = 0.0\n",
      "└ @ Criminos /Users/brent/Library/Mobile Documents/com~apple~CloudDocs/Documents/recherche/docs-fairness/Criminos.jl/src/fit.jl:289\n",
      "┌ Info: \n",
      "│   maximum(abs.(x - xₛ)) = 2.842170943040401e-14\n",
      "└ @ Criminos /Users/brent/Library/Mobile Documents/com~apple~CloudDocs/Documents/recherche/docs-fairness/Criminos.jl/src/fit.jl:290\n",
      "┌ Info: \n",
      "│   maximum(abs.(_A * _B - I)) < 1.0e-5 = true\n",
      "└ @ Criminos /Users/brent/Library/Mobile Documents/com~apple~CloudDocs/Documents/recherche/docs-fairness/Criminos.jl/src/fit.jl:291\n",
      "┌ Info: \n",
      "│   maximum(abs.(yₕ(τₛ) .- yₛ) / norm(yₛ, 1)) = 1.3214482718246237e-17\n",
      "└ @ Criminos /Users/brent/Library/Mobile Documents/com~apple~CloudDocs/Documents/recherche/docs-fairness/Criminos.jl/src/fit.jl:292\n",
      "┌ Info: \n",
      "│   maximum(abs.(gety(mipar, expt_inc(τₛ), expt_dec(τₛ)) .- yₛ) / norm(yₛ, 1)) = 1.3214482718246237e-17\n",
      "└ @ Criminos /Users/brent/Library/Mobile Documents/com~apple~CloudDocs/Documents/recherche/docs-fairness/Criminos.jl/src/fit.jl:293\n",
      "┌ Info: \n",
      "│   yₛ |> sum = 268.85\n",
      "│   sum(yₕ(τᵢ)) = 15.707896618577228\n",
      "│   sum(yₕ(τ₀)) = 823.9942528954566\n",
      "└ @ Criminos /Users/brent/Library/Mobile Documents/com~apple~CloudDocs/Documents/recherche/docs-fairness/Criminos.jl/src/fit.jl:298\n"
     ]
    }
   ],
   "source": [
    "\n",
    "_args = tuning(\n",
    "    n, Σ, Σ₁, Σ₂, V;\n",
    "    ρₛ=ρₛ,\n",
    "    xₛ=xₛ,\n",
    "    yₛ=yₛ,\n",
    "    τₛ=vcat([_z.τ for _z in vec_z]...),\n",
    "    style_mixin_monotonicity=cc.style_mixin_monotonicity,\n",
    "    cc=cc,\n",
    "    vec_Ψ=vec_Ψ,\n",
    "    bool_H_diag=true\n",
    ")\n",
    "\n",
    "mipar, ω∇ω, G, y, x, gₕ, Hₕ, yₕ, _A, _B, md = _args;\n"
   ]
  },
  {
   "cell_type": "markdown",
   "metadata": {},
   "source": [
    "## Using fitted params"
   ]
  },
  {
   "cell_type": "code",
   "execution_count": 10,
   "metadata": {},
   "outputs": [
    {
     "name": "stderr",
     "output_type": "stream",
     "text": [
      "\u001b[32mProgress:  14%|█████▉                                   |  ETA: 0:00:39\u001b[39m\u001b[K┌ Info: converged in 1511 steps\n",
      "└ @ Criminos /Users/brent/Library/Mobile Documents/com~apple~CloudDocs/Documents/recherche/docs-fairness/Criminos.jl/src/Criminos.jl:195\n",
      "\u001b[32mProgress: 100%|█████████████████████████████████████████| Time: 0:00:06\u001b[39m\u001b[K\n",
      "┌ Info: final eps: 9.943500359591066e-8\n",
      "└ @ Criminos /Users/brent/Library/Mobile Documents/com~apple~CloudDocs/Documents/recherche/docs-fairness/Criminos.jl/src/Criminos.jl:203\n",
      "┌ Info: \n",
      "│   abs.(yₛ - ((traj[end])[1]).y) |> maximum = 0.00012120789198988291\n",
      "│   abs.(ρₛ - ((traj[end])[1]).ρ) |> maximum = 8.386382417402416e-6\n",
      "└ @ Main /Users/brent/Library/Mobile Documents/com~apple~CloudDocs/Documents/recherche/docs-fairness/Criminos.jl/jl-run-single-equilibria.ipynb:12\n"
     ]
    }
   ],
   "source": [
    "default_barrier_option.μ = 5e-2\n",
    "Fp(vec_z) = F!(\n",
    "    vec_z, vec_Ψ;\n",
    "    fₜ=Criminos.decision_identity!, targs=(cₜ, 0.1, 0.9, 0.15, 0.2),\n",
    "    fₘ=cc.style_mixin, margs=_args,\n",
    ")\n",
    "kₑ, ε, traj, bool_opt = Criminos.simulate(\n",
    "    vec_z, vec_Ψ, Fp; K=10000,\n",
    "    metrics=metrics,\n",
    "    tol=1e-7\n",
    ");\n",
    "@info \"\" abs.(yₛ - traj[end][1].y) |> maximum abs.(ρₛ - traj[end][1].ρ) |> maximum"
   ]
  },
  {
   "cell_type": "code",
   "execution_count": 11,
   "metadata": {},
   "outputs": [
    {
     "data": {
      "text/plain": [
       "0.24037919937976893"
      ]
     },
     "metadata": {},
     "output_type": "display_data"
    }
   ],
   "source": [
    "# the equilibria\n",
    "r = traj[end][1]\n",
    "# δ by EO\n",
    "δ = r.fpr\n",
    "# δ by EP\n",
    "# δ = sum(r.τ .* r.y) / sum(r.x)"
   ]
  },
  {
   "cell_type": "code",
   "execution_count": 12,
   "metadata": {},
   "outputs": [
    {
     "data": {
      "text/plain": [
       "17×6 Matrix{Float64}:\n",
       " 13.05  69.1   13.05    69.1     0.188857  0.188857\n",
       " 12.7   63.9   12.7     63.9     0.198748  0.198748\n",
       " 21.5   92.45  21.5     92.45    0.232558  0.232558\n",
       " 18.8   71.45  18.8     71.45    0.263121  0.263121\n",
       " 21.1   76.5   21.1     76.5     0.275817  0.275817\n",
       " 20.05  67.9   20.05    67.9     0.295287  0.295287\n",
       " 21.0   68.4   21.0     68.4     0.307018  0.307018\n",
       " 22.7   68.85  22.7     68.8501  0.329702  0.329702\n",
       " 22.45  64.7   22.45    64.6998  0.346986  0.346988\n",
       " 20.85  58.5   20.8499  58.5004  0.35641   0.356407\n",
       " 19.15  56.1   19.1501  56.0993  0.341355  0.34136\n",
       " 19.85  53.7   19.8499  53.7009  0.369646  0.369638\n",
       " 15.35  41.9   15.3501  41.8992  0.366348  0.366357\n",
       " 12.4   30.5   12.4     30.5002  0.406557  0.406554\n",
       "  5.8   13.2    5.8     13.2     0.439394  0.439395\n",
       "  1.9    3.85   1.9      3.85    0.493506  0.493506\n",
       "  0.2    0.4    0.2      0.4     0.5       0.5"
      ]
     },
     "metadata": {},
     "output_type": "display_data"
    }
   ],
   "source": [
    "[yₛ xₛ traj[end][1].y traj[end][1].x yₛ./xₛ traj[end][1].y./traj[end][1].x]"
   ]
  },
  {
   "cell_type": "code",
   "execution_count": 13,
   "metadata": {},
   "outputs": [
    {
     "name": "stderr",
     "output_type": "stream",
     "text": [
      "┌ Info: write to\n",
      "│   \"$(cc.result_dir)/convergence.$(format)\" = result-20241110/test/convergence.html\n",
      "└ @ Main /Users/brent/Library/Mobile Documents/com~apple~CloudDocs/Documents/recherche/docs-fairness/Criminos.jl/tools.jl:76\n"
     ]
    }
   ],
   "source": [
    "plot_convergence(ε, vec_z |> length)"
   ]
  },
  {
   "cell_type": "code",
   "execution_count": 14,
   "metadata": {},
   "outputs": [
    {
     "data": {
      "application/vnd.plotly.v1+json": {
       "data": [
        {
         "colorbar": {
          "len": 0.905858121901429,
          "title": "",
          "x": 0.9950787401574803,
          "y": 0.5405092592592593
         },
         "legendgroup": "$y_s^*$",
         "line": {
          "color": "rgba(0, 154, 250, 1.000)",
          "dash": "dot",
          "shape": "linear",
          "width": 1
         },
         "mode": "lines",
         "name": "$y_s^*$",
         "showlegend": true,
         "type": "scatter",
         "x": [
          1,
          2,
          3,
          4,
          5,
          6,
          7,
          8,
          9,
          10,
          11,
          12,
          13,
          14,
          15,
          16,
          17
         ],
         "xaxis": "x",
         "y": [
          13.05,
          12.7,
          21.5,
          18.8,
          21.1,
          20.05,
          21,
          22.7,
          22.45,
          20.85,
          19.15,
          19.85,
          15.35,
          12.4,
          5.8,
          1.9,
          0.2
         ],
         "yaxis": "y"
        },
        {
         "colorbar": {
          "len": 0.905858121901429,
          "title": "",
          "x": 0.9950787401574803,
          "y": 0.5405092592592593
         },
         "legendgroup": "$y_s$",
         "line": {
          "color": "rgba(227, 111, 71, 1.000)",
          "dash": "dot",
          "shape": "linear",
          "width": 1
         },
         "mode": "lines",
         "name": "$y_s$",
         "showlegend": true,
         "type": "scatter",
         "x": [
          1,
          2,
          3,
          4,
          5,
          6,
          7,
          8,
          9,
          10,
          11,
          12,
          13,
          14,
          15,
          16,
          17
         ],
         "xaxis": "x",
         "y": [
          13.04999993145919,
          12.700000158698517,
          21.499999766086756,
          18.799999985521243,
          21.10000099784208,
          20.04999686194066,
          21.00000723631339,
          22.69998352880605,
          22.450035111324418,
          20.849933193770475,
          19.150094574764974,
          19.84987879210801,
          15.35006522894956,
          12.399988991145808,
          5.8000009091597775,
          1.8999999827274656,
          0.2000000529606651
         ],
         "yaxis": "y"
        }
       ],
       "layout": {
        "annotations": [],
        "height": 600,
        "include_mathjax": "cdn",
        "legend": {
         "bgcolor": "rgba(255, 255, 255, 1.000)",
         "bordercolor": "rgba(0, 0, 0, 1.000)",
         "borderwidth": 1,
         "font": {
          "color": "rgba(0, 0, 0, 1.000)",
          "family": "sans-serif",
          "size": 28
         },
         "title": {
          "font": {
           "color": "rgba(0, 0, 0, 1.000)",
           "family": "sans-serif",
           "size": 15
          },
          "text": ""
         },
         "tracegroupgap": 0,
         "traceorder": "normal",
         "x": 1,
         "xanchor": "right",
         "y": 1,
         "yanchor": "top"
        },
        "margin": {
         "b": 20,
         "l": 0,
         "r": 0,
         "t": 20
        },
        "paper_bgcolor": "rgba(255, 255, 255, 1.000)",
        "plot_bgcolor": "rgba(255, 255, 255, 1.000)",
        "showlegend": true,
        "width": 800,
        "xaxis": {
         "anchor": "y",
         "domain": [
          0.08131014873140857,
          0.9950787401574803
         ],
         "gridcolor": "rgba(0, 0, 0, 0.100)",
         "gridwidth": 0.5,
         "linecolor": "rgba(0, 0, 0, 1.000)",
         "mirror": false,
         "range": [
          0.5199999999999996,
          17.48
         ],
         "showgrid": true,
         "showline": true,
         "showticklabels": true,
         "tickangle": 0,
         "tickcolor": "rgb(0, 0, 0)",
         "tickfont": {
          "color": "rgba(0, 0, 0, 1.000)",
          "family": "sans-serif",
          "size": 21
         },
         "tickmode": "array",
         "ticks": "inside",
         "ticktext": [
          "3",
          "6",
          "9",
          "12",
          "15"
         ],
         "tickvals": [
          3,
          6,
          9,
          12,
          15
         ],
         "title": "$j$",
         "titlefont": {
          "color": "rgba(0, 0, 0, 1.000)",
          "family": "sans-serif",
          "size": 28
         },
         "type": "-",
         "visible": true,
         "zeroline": false,
         "zerolinecolor": "rgba(0, 0, 0, 1.000)"
        },
        "yaxis": {
         "anchor": "x",
         "domain": [
          0.0875801983085448,
          0.9934383202099738
         ],
         "gridcolor": "rgba(0, 0, 0, 0.100)",
         "gridwidth": 0.5,
         "linecolor": "rgba(0, 0, 0, 1.000)",
         "mirror": false,
         "range": [
          -0.4750000000000014,
          23.375
         ],
         "showgrid": true,
         "showline": true,
         "showticklabels": true,
         "tickangle": 0,
         "tickcolor": "rgb(0, 0, 0)",
         "tickfont": {
          "color": "rgba(0, 0, 0, 1.000)",
          "family": "sans-serif",
          "size": 21
         },
         "tickmode": "array",
         "ticks": "inside",
         "ticktext": [
          "0",
          "5",
          "10",
          "15",
          "20"
         ],
         "tickvals": [
          0,
          5,
          10,
          15,
          20
         ],
         "title": "value",
         "titlefont": {
          "color": "rgba(0, 0, 0, 1.000)",
          "family": "sans-serif",
          "size": 28
         },
         "type": "-",
         "visible": true,
         "zeroline": false,
         "zerolinecolor": "rgba(0, 0, 0, 1.000)"
        }
       }
      },
      "image/png": "[encoded data removed]",
      "image/svg+xml": [
       "<svg class=\"main-svg\" xmlns=\"http://www.w3.org/2000/svg\" xmlns:xlink=\"http://www.w3.org/1999/xlink\" width=\"700\" height=\"500\" style=\"\" viewBox=\"0 0 700 500\"><rect x=\"0\" y=\"0\" width=\"700\" height=\"500\" style=\"fill: rgb(255, 255, 255); fill-opacity: 1;\"/><defs id=\"defs-9f1b61\"><g class=\"clips\"><clipPath id=\"clip9f1b61xyplot\" class=\"plotclip\"><rect width=\"548.2611548556431\" height=\"353.2846675415573\"/></clipPath><clipPath class=\"axesclip\" id=\"clip9f1b61x\"><rect x=\"98.78608923884514\" y=\"0\" width=\"548.2611548556431\" height=\"500\"/></clipPath><clipPath class=\"axesclip\" id=\"clip9f1b61y\"><rect x=\"0\" y=\"62.559055118110216\" width=\"700\" height=\"353.2846675415573\"/></clipPath><clipPath class=\"axesclip\" id=\"clip9f1b61xy\"><rect x=\"98.78608923884514\" y=\"62.559055118110216\" width=\"548.2611548556431\" height=\"353.2846675415573\"/></clipPath></g><g class=\"gradients\"/></defs><g class=\"bglayer\"/><g class=\"layer-below\"><g class=\"imagelayer\"/><g class=\"shapelayer\"/></g><g class=\"cartesianlayer\"><g class=\"subplot xy\"><g class=\"layer-subplot\"><g class=\"shapelayer\"/><g class=\"imagelayer\"/></g><g class=\"gridlayer\"><g class=\"x\"><path class=\"xgrid crisp\" transform=\"translate(178.95608923884515,0)\" d=\"M0,62.559055118110216v353.2846675415573\" style=\"stroke: rgb(0, 0, 0); stroke-opacity: 0.1; stroke-width: 0.5px;\"/><path class=\"xgrid crisp\" transform=\"translate(275.93608923884517,0)\" d=\"M0,62.559055118110216v353.2846675415573\" style=\"stroke: rgb(0, 0, 0); stroke-opacity: 0.1; stroke-width: 0.5px;\"/><path class=\"xgrid crisp\" transform=\"translate(372.91608923884513,0)\" d=\"M0,62.559055118110216v353.2846675415573\" style=\"stroke: rgb(0, 0, 0); stroke-opacity: 0.1; stroke-width: 0.5px;\"/><path class=\"xgrid crisp\" transform=\"translate(469.89608923884515,0)\" d=\"M0,62.559055118110216v353.2846675415573\" style=\"stroke: rgb(0, 0, 0); stroke-opacity: 0.1; stroke-width: 0.5px;\"/><path class=\"xgrid crisp\" transform=\"translate(566.8760892388451,0)\" d=\"M0,62.559055118110216v353.2846675415573\" style=\"stroke: rgb(0, 0, 0); stroke-opacity: 0.1; stroke-width: 0.5px;\"/></g><g class=\"y\"><path class=\"ygrid crisp\" transform=\"translate(0,408.8090551181102)\" d=\"M98.78608923884514,0h548.2611548556431\" style=\"stroke: rgb(0, 0, 0); stroke-opacity: 0.1; stroke-width: 0.5px;\"/><path class=\"ygrid crisp\" transform=\"translate(0,334.73905511811023)\" d=\"M98.78608923884514,0h548.2611548556431\" style=\"stroke: rgb(0, 0, 0); stroke-opacity: 0.1; stroke-width: 0.5px;\"/><path class=\"ygrid crisp\" transform=\"translate(0,260.6790551181102)\" d=\"M98.78608923884514,0h548.2611548556431\" style=\"stroke: rgb(0, 0, 0); stroke-opacity: 0.1; stroke-width: 0.5px;\"/><path class=\"ygrid crisp\" transform=\"translate(0,186.61905511811023)\" d=\"M98.78608923884514,0h548.2611548556431\" style=\"stroke: rgb(0, 0, 0); stroke-opacity: 0.1; stroke-width: 0.5px;\"/><path class=\"ygrid crisp\" transform=\"translate(0,112.54905511811022)\" d=\"M98.78608923884514,0h548.2611548556431\" style=\"stroke: rgb(0, 0, 0); stroke-opacity: 0.1; stroke-width: 0.5px;\"/></g></g><g class=\"zerolinelayer\"/><path class=\"xlines-below\"/><path class=\"ylines-below\"/><g class=\"overlines-below\"/><g class=\"xaxislayer-below\"/><g class=\"yaxislayer-below\"/><g class=\"overaxes-below\"/><g class=\"plot\" transform=\"translate(98.78608923884514,62.559055118110216)\" clip-path=\"url('#clip9f1b61xyplot')\"><g class=\"scatterlayer mlayer\"><g class=\"trace scatter trace9b4007\" style=\"stroke-miterlimit: 2; opacity: 1;\"><g class=\"fills\"/><g class=\"errorbars\"/><g class=\"lines\"><path class=\"js-line\" d=\"M15.52,152.94L47.84,158.13L80.17,27.77L112.5,67.77L144.82,33.7L177.15,49.25L209.48,35.18L241.8,10L274.13,13.7L306.46,37.4L338.78,62.58L371.11,52.22L403.44,118.87L435.76,162.57L468.09,260.33L500.42,318.1L532.74,343.29\" style=\"vector-effect: non-scaling-stroke; fill: none; stroke: rgb(0, 154, 250); stroke-opacity: 1; stroke-width: 1px; opacity: 1; stroke-dasharray: 3px, 3px;\"/></g><g class=\"points\"/><g class=\"text\"/></g><g class=\"trace scatter trace189e9e\" style=\"stroke-miterlimit: 2; opacity: 1;\"><g class=\"fills\"/><g class=\"errorbars\"/><g class=\"lines\"><path class=\"js-line\" d=\"M15.52,152.94L47.84,158.13L80.17,27.77L112.5,67.77L144.82,33.7L177.15,49.25L209.48,35.18L241.8,10L274.13,13.7L306.46,37.4L338.78,62.58L371.11,52.22L403.44,118.87L435.76,162.57L468.09,260.33L500.42,318.1L532.74,343.29\" style=\"vector-effect: non-scaling-stroke; fill: none; stroke: rgb(227, 111, 71); stroke-opacity: 1; stroke-width: 1px; opacity: 1; stroke-dasharray: 3px, 3px;\"/></g><g class=\"points\"/><g class=\"text\"/></g></g></g><g class=\"overplot\"/><path class=\"xlines-above crisp\" d=\"M97.78608923884514,416.34372265966755H647.0472440944882\" style=\"fill: none; stroke-width: 1px; stroke: rgb(0, 0, 0); stroke-opacity: 1;\"/><path class=\"ylines-above crisp\" d=\"M98.28608923884514,62.559055118110216V415.84372265966755\" style=\"fill: none; stroke-width: 1px; stroke: rgb(0, 0, 0); stroke-opacity: 1;\"/><g class=\"overlines-above\"/><g class=\"xaxislayer-above\"><path class=\"xtick ticks crisp\" d=\"M0,415.84372265966755v-5\" transform=\"translate(178.95608923884515,0)\" style=\"stroke: rgb(0, 0, 0); stroke-opacity: 1; stroke-width: 1px;\"/><path class=\"xtick ticks crisp\" d=\"M0,415.84372265966755v-5\" transform=\"translate(275.93608923884517,0)\" style=\"stroke: rgb(0, 0, 0); stroke-opacity: 1; stroke-width: 1px;\"/><path class=\"xtick ticks crisp\" d=\"M0,415.84372265966755v-5\" transform=\"translate(372.91608923884513,0)\" style=\"stroke: rgb(0, 0, 0); stroke-opacity: 1; stroke-width: 1px;\"/><path class=\"xtick ticks crisp\" d=\"M0,415.84372265966755v-5\" transform=\"translate(469.89608923884515,0)\" style=\"stroke: rgb(0, 0, 0); stroke-opacity: 1; stroke-width: 1px;\"/><path class=\"xtick ticks crisp\" d=\"M0,415.84372265966755v-5\" transform=\"translate(566.8760892388451,0)\" style=\"stroke: rgb(0, 0, 0); stroke-opacity: 1; stroke-width: 1px;\"/><g class=\"xtick\"><text text-anchor=\"middle\" x=\"0\" y=\"442.04372265966754\" transform=\"translate(178.95608923884515,0)\" style=\"font-family: sans-serif; font-size: 21px; fill: rgb(0, 0, 0); fill-opacity: 1; white-space: pre;\">3</text></g><g class=\"xtick\"><text text-anchor=\"middle\" x=\"0\" y=\"442.04372265966754\" transform=\"translate(275.93608923884517,0)\" style=\"font-family: sans-serif; font-size: 21px; fill: rgb(0, 0, 0); fill-opacity: 1; white-space: pre;\">6</text></g><g class=\"xtick\"><text text-anchor=\"middle\" x=\"0\" y=\"442.04372265966754\" transform=\"translate(372.91608923884513,0)\" style=\"font-family: sans-serif; font-size: 21px; fill: rgb(0, 0, 0); fill-opacity: 1; white-space: pre;\">9</text></g><g class=\"xtick\"><text text-anchor=\"middle\" x=\"0\" y=\"442.04372265966754\" transform=\"translate(469.89608923884515,0)\" style=\"font-family: sans-serif; font-size: 21px; fill: rgb(0, 0, 0); fill-opacity: 1; white-space: pre;\">12</text></g><g class=\"xtick\"><text text-anchor=\"middle\" x=\"0\" y=\"442.04372265966754\" transform=\"translate(566.8760892388451,0)\" style=\"font-family: sans-serif; font-size: 21px; fill: rgb(0, 0, 0); fill-opacity: 1; white-space: pre;\">15</text></g></g><g class=\"yaxislayer-above\"><path class=\"ytick ticks crisp\" d=\"M98.78608923884514,0h5\" transform=\"translate(0,408.8090551181102)\" style=\"stroke: rgb(0, 0, 0); stroke-opacity: 1; stroke-width: 1px;\"/><path class=\"ytick ticks crisp\" d=\"M98.78608923884514,0h5\" transform=\"translate(0,334.73905511811023)\" style=\"stroke: rgb(0, 0, 0); stroke-opacity: 1; stroke-width: 1px;\"/><path class=\"ytick ticks crisp\" d=\"M98.78608923884514,0h5\" transform=\"translate(0,260.6790551181102)\" style=\"stroke: rgb(0, 0, 0); stroke-opacity: 1; stroke-width: 1px;\"/><path class=\"ytick ticks crisp\" d=\"M98.78608923884514,0h5\" transform=\"translate(0,186.61905511811023)\" style=\"stroke: rgb(0, 0, 0); stroke-opacity: 1; stroke-width: 1px;\"/><path class=\"ytick ticks crisp\" d=\"M98.78608923884514,0h5\" transform=\"translate(0,112.54905511811022)\" style=\"stroke: rgb(0, 0, 0); stroke-opacity: 1; stroke-width: 1px;\"/><g class=\"ytick\"><text text-anchor=\"end\" x=\"93.58608923884513\" y=\"7.35\" transform=\"translate(0,408.8090551181102)\" style=\"font-family: sans-serif; font-size: 21px; fill: rgb(0, 0, 0); fill-opacity: 1; white-space: pre;\">0</text></g><g class=\"ytick\"><text text-anchor=\"end\" x=\"93.58608923884513\" y=\"7.35\" transform=\"translate(0,334.73905511811023)\" style=\"font-family: sans-serif; font-size: 21px; fill: rgb(0, 0, 0); fill-opacity: 1; white-space: pre;\">5</text></g><g class=\"ytick\"><text text-anchor=\"end\" x=\"93.58608923884513\" y=\"7.35\" transform=\"translate(0,260.6790551181102)\" style=\"font-family: sans-serif; font-size: 21px; fill: rgb(0, 0, 0); fill-opacity: 1; white-space: pre;\">10</text></g><g class=\"ytick\"><text text-anchor=\"end\" x=\"93.58608923884513\" y=\"7.35\" transform=\"translate(0,186.61905511811023)\" style=\"font-family: sans-serif; font-size: 21px; fill: rgb(0, 0, 0); fill-opacity: 1; white-space: pre;\">15</text></g><g class=\"ytick\"><text text-anchor=\"end\" x=\"93.58608923884513\" y=\"7.35\" transform=\"translate(0,112.54905511811022)\" style=\"font-family: sans-serif; font-size: 21px; fill: rgb(0, 0, 0); fill-opacity: 1; white-space: pre;\">20</text></g></g><g class=\"overaxes-above\"/></g></g><g class=\"polarlayer\"/><g class=\"ternarylayer\"/><g class=\"geolayer\"/><g class=\"funnelarealayer\"/><g class=\"pielayer\"/><g class=\"treemaplayer\"/><g class=\"sunburstlayer\"/><g class=\"glimages\"/><defs id=\"topdefs-9f1b61\"><g class=\"clips\"/><clipPath id=\"legend9f1b61\"><rect width=\"144\" height=\"89\" x=\"1\" y=\"1\"/></clipPath></defs><g class=\"layer-above\"><g class=\"imagelayer\"/><g class=\"shapelayer\"/></g><g class=\"infolayer\"><g class=\"legend\" pointer-events=\"all\" transform=\"translate(504,60)\"><rect class=\"bg\" shape-rendering=\"crispEdges\" style=\"stroke: rgb(0, 0, 0); stroke-opacity: 1; fill: rgb(255, 255, 255); fill-opacity: 1; stroke-width: 1px;\" width=\"145\" height=\"90\" x=\"0.5\" y=\"0.5\"/><g class=\"scrollbox\" transform=\"\" clip-path=\"url('#legend9f1b61')\"><g class=\"groups\"><g class=\"traces\" transform=\"translate(1,25.7)\" style=\"opacity: 1;\"><text class=\"legendtext\" text-anchor=\"start\" x=\"40\" y=\"10.92\" style=\"font-family: sans-serif; font-size: 28px; fill: rgb(0, 0, 0); fill-opacity: 1; white-space: pre;\">$y_s^*$</text><g class=\"layers\" style=\"opacity: 1;\"><g class=\"legendfill\"/><g class=\"legendlines\"><path class=\"js-line\" d=\"M5,0h30\" style=\"fill: none; stroke: rgb(0, 154, 250); stroke-opacity: 1; stroke-dasharray: 3px, 3px; stroke-width: 1px;\"/></g><g class=\"legendsymbols\"><g class=\"legendpoints\"/></g></g><rect class=\"legendtoggle\" x=\"0\" y=\"-19.7\" width=\"138.765625\" height=\"39.4\" style=\"fill: rgb(0, 0, 0); fill-opacity: 0;\"/></g><g class=\"traces\" transform=\"translate(1,65.1)\" style=\"opacity: 1;\"><text class=\"legendtext\" text-anchor=\"start\" x=\"40\" y=\"10.92\" style=\"font-family: sans-serif; font-size: 28px; fill: rgb(0, 0, 0); fill-opacity: 1; white-space: pre;\">$y_s$</text><g class=\"layers\" style=\"opacity: 1;\"><g class=\"legendfill\"/><g class=\"legendlines\"><path class=\"js-line\" d=\"M5,0h30\" style=\"fill: none; stroke: rgb(227, 111, 71); stroke-opacity: 1; stroke-dasharray: 3px, 3px; stroke-width: 1px;\"/></g><g class=\"legendsymbols\"><g class=\"legendpoints\"/></g></g><rect class=\"legendtoggle\" x=\"0\" y=\"-19.7\" width=\"138.765625\" height=\"39.4\" style=\"fill: rgb(0, 0, 0); fill-opacity: 0;\"/></g></g></g><rect class=\"scrollbar\" rx=\"20\" ry=\"3\" width=\"0\" height=\"0\" style=\"fill: rgb(128, 139, 164); fill-opacity: 1;\" x=\"0\" y=\"0\"/></g><g class=\"g-gtitle\"/><g class=\"g-xtitle\"><text class=\"xtitle\" x=\"372.9166666666667\" y=\"480.646875\" text-anchor=\"middle\" style=\"font-family: sans-serif; font-size: 28px; fill: rgb(0, 0, 0); opacity: 1; font-weight: normal; white-space: pre;\">$j$</text></g><g class=\"g-ytitle\"><text class=\"ytitle\" transform=\"rotate(-90,35.618750000000006,239.20138888888889)\" x=\"35.618750000000006\" y=\"239.20138888888889\" text-anchor=\"middle\" style=\"font-family: sans-serif; font-size: 28px; fill: rgb(0, 0, 0); opacity: 1; font-weight: normal; white-space: pre;\">value</text></g></g></svg>"
      ],
      "text/html": [
       "<script src=\"https://cdnjs.cloudflare.com/ajax/libs/mathjax/2.7.7/MathJax.js?config=TeX-MML-AM_CHTML\"></script>\n",
       "\t\t<script src=\"https://cdn.plot.ly/plotly-2.6.3.min.js\"></script>    <div id=\"62423098-93f5-4230-8638-44dadb80985a\" style=\"width:800px;height:600px;\"></div>\n",
       "    <script>\n",
       "    \n",
       "    Plotly.newPlot('62423098-93f5-4230-8638-44dadb80985a', [\n",
       "    {\n",
       "        \"showlegend\": true,\n",
       "        \"mode\": \"lines\",\n",
       "        \"xaxis\": \"x\",\n",
       "        \"colorbar\": {\n",
       "            \"y\": 0.5405092592592593,\n",
       "            \"title\": \"\",\n",
       "            \"len\": 0.905858121901429,\n",
       "            \"x\": 0.9950787401574803\n",
       "        },\n",
       "        \"name\": \"$y_s^*$\",\n",
       "        \"yaxis\": \"y\",\n",
       "        \"legendgroup\": \"$y_s^*$\",\n",
       "        \"line\": {\n",
       "            \"color\": \"rgba(0, 154, 250, 1.000)\",\n",
       "            \"shape\": \"linear\",\n",
       "            \"dash\": \"dot\",\n",
       "            \"width\": 1\n",
       "        },\n",
       "        \"y\": [\n",
       "            13.05,\n",
       "            12.7,\n",
       "            21.5,\n",
       "            18.8,\n",
       "            21.1,\n",
       "            20.05,\n",
       "            21.0,\n",
       "            22.7,\n",
       "            22.45,\n",
       "            20.85,\n",
       "            19.15,\n",
       "            19.85,\n",
       "            15.35,\n",
       "            12.4,\n",
       "            5.8,\n",
       "            1.9,\n",
       "            0.2\n",
       "        ],\n",
       "        \"type\": \"scatter\",\n",
       "        \"x\": [\n",
       "            1,\n",
       "            2,\n",
       "            3,\n",
       "            4,\n",
       "            5,\n",
       "            6,\n",
       "            7,\n",
       "            8,\n",
       "            9,\n",
       "            10,\n",
       "            11,\n",
       "            12,\n",
       "            13,\n",
       "            14,\n",
       "            15,\n",
       "            16,\n",
       "            17\n",
       "        ]\n",
       "    },\n",
       "    {\n",
       "        \"showlegend\": true,\n",
       "        \"mode\": \"lines\",\n",
       "        \"xaxis\": \"x\",\n",
       "        \"colorbar\": {\n",
       "            \"y\": 0.5405092592592593,\n",
       "            \"title\": \"\",\n",
       "            \"len\": 0.905858121901429,\n",
       "            \"x\": 0.9950787401574803\n",
       "        },\n",
       "        \"name\": \"$y_s$\",\n",
       "        \"yaxis\": \"y\",\n",
       "        \"legendgroup\": \"$y_s$\",\n",
       "        \"line\": {\n",
       "            \"color\": \"rgba(227, 111, 71, 1.000)\",\n",
       "            \"shape\": \"linear\",\n",
       "            \"dash\": \"dot\",\n",
       "            \"width\": 1\n",
       "        },\n",
       "        \"y\": [\n",
       "            13.04999993145919,\n",
       "            12.700000158698517,\n",
       "            21.499999766086756,\n",
       "            18.799999985521243,\n",
       "            21.10000099784208,\n",
       "            20.04999686194066,\n",
       "            21.00000723631339,\n",
       "            22.69998352880605,\n",
       "            22.450035111324418,\n",
       "            20.849933193770475,\n",
       "            19.150094574764974,\n",
       "            19.84987879210801,\n",
       "            15.35006522894956,\n",
       "            12.399988991145808,\n",
       "            5.8000009091597775,\n",
       "            1.8999999827274656,\n",
       "            0.2000000529606651\n",
       "        ],\n",
       "        \"type\": \"scatter\",\n",
       "        \"x\": [\n",
       "            1,\n",
       "            2,\n",
       "            3,\n",
       "            4,\n",
       "            5,\n",
       "            6,\n",
       "            7,\n",
       "            8,\n",
       "            9,\n",
       "            10,\n",
       "            11,\n",
       "            12,\n",
       "            13,\n",
       "            14,\n",
       "            15,\n",
       "            16,\n",
       "            17\n",
       "        ]\n",
       "    }\n",
       "]\n",
       ", {\n",
       "    \"showlegend\": true,\n",
       "    \"xaxis\": {\n",
       "        \"showticklabels\": true,\n",
       "        \"gridwidth\": 0.5,\n",
       "        \"tickvals\": [\n",
       "            3.0,\n",
       "            6.0,\n",
       "            9.0,\n",
       "            12.0,\n",
       "            15.0\n",
       "        ],\n",
       "        \"range\": [\n",
       "            0.5199999999999996,\n",
       "            17.48\n",
       "        ],\n",
       "        \"domain\": [\n",
       "            0.08131014873140857,\n",
       "            0.9950787401574803\n",
       "        ],\n",
       "        \"mirror\": false,\n",
       "        \"tickangle\": 0,\n",
       "        \"showline\": true,\n",
       "        \"ticktext\": [\n",
       "            \"3\",\n",
       "            \"6\",\n",
       "            \"9\",\n",
       "            \"12\",\n",
       "            \"15\"\n",
       "        ],\n",
       "        \"zeroline\": false,\n",
       "        \"tickfont\": {\n",
       "            \"color\": \"rgba(0, 0, 0, 1.000)\",\n",
       "            \"family\": \"sans-serif\",\n",
       "            \"size\": 21\n",
       "        },\n",
       "        \"zerolinecolor\": \"rgba(0, 0, 0, 1.000)\",\n",
       "        \"anchor\": \"y\",\n",
       "        \"visible\": true,\n",
       "        \"ticks\": \"inside\",\n",
       "        \"tickmode\": \"array\",\n",
       "        \"linecolor\": \"rgba(0, 0, 0, 1.000)\",\n",
       "        \"showgrid\": true,\n",
       "        \"title\": \"$j$\",\n",
       "        \"gridcolor\": \"rgba(0, 0, 0, 0.100)\",\n",
       "        \"titlefont\": {\n",
       "            \"color\": \"rgba(0, 0, 0, 1.000)\",\n",
       "            \"family\": \"sans-serif\",\n",
       "            \"size\": 28\n",
       "        },\n",
       "        \"tickcolor\": \"rgb(0, 0, 0)\",\n",
       "        \"type\": \"-\"\n",
       "    },\n",
       "    \"paper_bgcolor\": \"rgba(255, 255, 255, 1.000)\",\n",
       "    \"legend\": {\n",
       "        \"yanchor\": \"top\",\n",
       "        \"xanchor\": \"right\",\n",
       "        \"bordercolor\": \"rgba(0, 0, 0, 1.000)\",\n",
       "        \"bgcolor\": \"rgba(255, 255, 255, 1.000)\",\n",
       "        \"borderwidth\": 1,\n",
       "        \"tracegroupgap\": 0,\n",
       "        \"y\": 1.0,\n",
       "        \"font\": {\n",
       "            \"color\": \"rgba(0, 0, 0, 1.000)\",\n",
       "            \"family\": \"sans-serif\",\n",
       "            \"size\": 28\n",
       "        },\n",
       "        \"title\": {\n",
       "            \"font\": {\n",
       "                \"color\": \"rgba(0, 0, 0, 1.000)\",\n",
       "                \"family\": \"sans-serif\",\n",
       "                \"size\": 15\n",
       "            },\n",
       "            \"text\": \"\"\n",
       "        },\n",
       "        \"traceorder\": \"normal\",\n",
       "        \"x\": 1.0\n",
       "    },\n",
       "    \"height\": 600,\n",
       "    \"yaxis\": {\n",
       "        \"showticklabels\": true,\n",
       "        \"gridwidth\": 0.5,\n",
       "        \"tickvals\": [\n",
       "            0.0,\n",
       "            5.0,\n",
       "            10.0,\n",
       "            15.0,\n",
       "            20.0\n",
       "        ],\n",
       "        \"range\": [\n",
       "            -0.4750000000000014,\n",
       "            23.375\n",
       "        ],\n",
       "        \"domain\": [\n",
       "            0.0875801983085448,\n",
       "            0.9934383202099738\n",
       "        ],\n",
       "        \"mirror\": false,\n",
       "        \"tickangle\": 0,\n",
       "        \"showline\": true,\n",
       "        \"ticktext\": [\n",
       "            \"0\",\n",
       "            \"5\",\n",
       "            \"10\",\n",
       "            \"15\",\n",
       "            \"20\"\n",
       "        ],\n",
       "        \"zeroline\": false,\n",
       "        \"tickfont\": {\n",
       "            \"color\": \"rgba(0, 0, 0, 1.000)\",\n",
       "            \"family\": \"sans-serif\",\n",
       "            \"size\": 21\n",
       "        },\n",
       "        \"zerolinecolor\": \"rgba(0, 0, 0, 1.000)\",\n",
       "        \"anchor\": \"x\",\n",
       "        \"visible\": true,\n",
       "        \"ticks\": \"inside\",\n",
       "        \"tickmode\": \"array\",\n",
       "        \"linecolor\": \"rgba(0, 0, 0, 1.000)\",\n",
       "        \"showgrid\": true,\n",
       "        \"title\": \"value\",\n",
       "        \"gridcolor\": \"rgba(0, 0, 0, 0.100)\",\n",
       "        \"titlefont\": {\n",
       "            \"color\": \"rgba(0, 0, 0, 1.000)\",\n",
       "            \"family\": \"sans-serif\",\n",
       "            \"size\": 28\n",
       "        },\n",
       "        \"tickcolor\": \"rgb(0, 0, 0)\",\n",
       "        \"type\": \"-\"\n",
       "    },\n",
       "    \"include_mathjax\": \"cdn\",\n",
       "    \"annotations\": [],\n",
       "    \"margin\": {\n",
       "        \"l\": 0,\n",
       "        \"b\": 20,\n",
       "        \"r\": 0,\n",
       "        \"t\": 20\n",
       "    },\n",
       "    \"plot_bgcolor\": \"rgba(255, 255, 255, 1.000)\",\n",
       "    \"width\": 800\n",
       "}\n",
       ");\n",
       "    \n",
       "    </script>\n"
      ]
     },
     "metadata": {},
     "output_type": "display_data"
    }
   ],
   "source": [
    "series_color = palette(:default)\n",
    "fig = generate_empty(cc.bool_use_html)\n",
    "plot!(\n",
    "    1:n, yₛ,\n",
    "    label=L\"$y_s^*$\",\n",
    "    linewidth=1,\n",
    "    linestyle=:dot,\n",
    ")\n",
    "plot!(\n",
    "    1:n, r.y,\n",
    "    label=L\"$y_s$\",\n",
    "    linewidth=1,\n",
    "    linestyle=:dot,\n",
    ")\n",
    "fig"
   ]
  },
  {
   "cell_type": "markdown",
   "metadata": {},
   "source": [
    "## Dynamic control "
   ]
  },
  {
   "cell_type": "code",
   "execution_count": 15,
   "metadata": {},
   "outputs": [
    {
     "data": {
      "text/plain": [
       "Dict{Any, Any}()"
      ]
     },
     "metadata": {},
     "output_type": "display_data"
    }
   ],
   "source": [
    "results = Dict()"
   ]
  },
  {
   "cell_type": "code",
   "execution_count": 16,
   "metadata": {},
   "outputs": [
    {
     "data": {
      "text/plain": [
       "Dict{String, Vector} with 4 entries:\n",
       "  \"late2\"  => [1, 4, 9, 16, 25, 36, 49, 64, 81, 100, 121, 144, 169, 196, 225, 2…\n",
       "  \"early\"  => [18, 17, 16, 15, 14, 13, 12, 11, 10, 9, 8, 7, 6, 5, 4, 3, 2]\n",
       "  \"early2\" => [76.3675, 70.0928, 64.0, 58.0948, 52.3832, 46.8722, 41.5692, 36.4…\n",
       "  \"late\"   => [1, 2, 3, 4, 5, 6, 7, 8, 9, 10, 11, 12, 13, 14, 15, 16, 17]"
      ]
     },
     "metadata": {},
     "output_type": "display_data"
    }
   ],
   "source": [
    "revenue_candidates = Dict(\n",
    "    \"early\" => [(n-i+2) for i in 1:n],\n",
    "    \"early2\" => [(n-i+2)^1.5 for i in 1:n],\n",
    "    \"late\" => [(i) for i in 1:n],\n",
    "    \"late2\" => [(i)^2 for i in 1:n],\n",
    ")"
   ]
  },
  {
   "cell_type": "markdown",
   "metadata": {},
   "source": [
    "### Run linear priority policy"
   ]
  },
  {
   "cell_type": "code",
   "execution_count": 22,
   "metadata": {},
   "outputs": [
    {
     "name": "stderr",
     "output_type": "stream",
     "text": [
      "\u001b[32mProgress:  11%|████▊                                    |  ETA: 0:00:40\u001b[39m\u001b[K┌ Info: converged in 1163 steps\n",
      "└ @ Criminos /Users/brent/Library/Mobile Documents/com~apple~CloudDocs/Documents/recherche/docs-fairness/Criminos.jl/src/Criminos.jl:195\n",
      "\u001b[32mProgress: 100%|█████████████████████████████████████████| Time: 0:00:05\u001b[39m\u001b[K\n",
      "┌ Info: final eps: 9.941893508807525e-8\n",
      "└ @ Criminos /Users/brent/Library/Mobile Documents/com~apple~CloudDocs/Documents/recherche/docs-fairness/Criminos.jl/src/Criminos.jl:203\n",
      "\u001b[32mProgress:  11%|████▌                                    |  ETA: 0:00:35\u001b[39m\u001b[K┌ Info: converged in 1120 steps\n",
      "└ @ Criminos /Users/brent/Library/Mobile Documents/com~apple~CloudDocs/Documents/recherche/docs-fairness/Criminos.jl/src/Criminos.jl:195\n",
      "\u001b[32mProgress: 100%|█████████████████████████████████████████| Time: 0:00:04\u001b[39m\u001b[K\n",
      "┌ Info: final eps: 9.9556268561174e-8\n",
      "└ @ Criminos /Users/brent/Library/Mobile Documents/com~apple~CloudDocs/Documents/recherche/docs-fairness/Criminos.jl/src/Criminos.jl:203\n",
      "\u001b[32mProgress:  11%|████▋                                    |  ETA: 0:00:36\u001b[39m\u001b[K┌ Info: converged in 1120 steps\n",
      "└ @ Criminos /Users/brent/Library/Mobile Documents/com~apple~CloudDocs/Documents/recherche/docs-fairness/Criminos.jl/src/Criminos.jl:195\n",
      "\u001b[32mProgress: 100%|█████████████████████████████████████████| Time: 0:00:04\u001b[39m\u001b[K\n",
      "┌ Info: final eps: 9.981927810431326e-8\n",
      "└ @ Criminos /Users/brent/Library/Mobile Documents/com~apple~CloudDocs/Documents/recherche/docs-fairness/Criminos.jl/src/Criminos.jl:203\n",
      "\u001b[32mProgress:  11%|████▋                                    |  ETA: 0:00:31\u001b[39m\u001b[K┌ Info: converged in 1163 steps\n",
      "└ @ Criminos /Users/brent/Library/Mobile Documents/com~apple~CloudDocs/Documents/recherche/docs-fairness/Criminos.jl/src/Criminos.jl:195\n",
      "\u001b[32mProgress: 100%|█████████████████████████████████████████| Time: 0:00:04\u001b[39m\u001b[K\n",
      "┌ Info: final eps: 9.943949199341979e-8\n",
      "└ @ Criminos /Users/brent/Library/Mobile Documents/com~apple~CloudDocs/Documents/recherche/docs-fairness/Criminos.jl/src/Criminos.jl:203\n"
     ]
    }
   ],
   "source": [
    "default_barrier_option.μ = 5e-1\n",
    "for (k, cvec) in revenue_candidates\n",
    "    Fp(vec_z) = F!(\n",
    "        vec_z, vec_Ψ;\n",
    "        fₜ=Criminos.decision_priority_by_opt!, \n",
    "        targs=(\n",
    "            mipar, default_decision_option,\n",
    "            cvec, 0.1, 1.0, 0.25, δ\n",
    "        ),\n",
    "        fₘ=cc.style_mixin, \n",
    "        margs=_args,\n",
    "    )\n",
    "    kₑ, ε, traj, bool_opt = Criminos.simulate(\n",
    "        vec_z, vec_Ψ, Fp; K=10000,\n",
    "        metrics=metrics,\n",
    "        tol=1e-7\n",
    "    );\n",
    "    # compare with knapsack rule\n",
    "    # rkn = Criminos.decision_priority!(traj[end][1], vec_Ψ[1]; args=(cvec, 0.1, 1.0, 0.45, δ))\n",
    "    # @info \"\"\"sanity check \n",
    "    # $([rkn traj[end][1].I])\n",
    "    # $(abs.(rkn - traj[end][1].I) |> maximum)\n",
    "    # \"\"\"\n",
    "    results[k] = traj[end][1]\n",
    "end"
   ]
  },
  {
   "cell_type": "code",
   "execution_count": 24,
   "metadata": {},
   "outputs": [
    {
     "name": "stderr",
     "output_type": "stream",
     "text": [
      "\u001b[32mProgress:   0%|                                         |  ETA: 1:42:06\u001b[39m\u001b[K"
     ]
    },
    {
     "name": "stdout",
     "output_type": "stream",
     "text": [
      "MOSEK warning 705 (MSK_RES_WRN_ZEROS_IN_SPARSE_ROW): 11 (nearly) zero elements are specified in sparse row ''(17) of matrix 'A'.\n",
      "MOSEK warning 705 (MSK_RES_WRN_ZEROS_IN_SPARSE_ROW): 1 (nearly) zero elements are specified in sparse row ''(17) of matrix 'A'.\n",
      "MOSEK warning 705 (MSK_RES_WRN_ZEROS_IN_SPARSE_ROW): 1 (nearly) zero elements are specified in sparse row ''(17) of matrix 'A'.\n"
     ]
    },
    {
     "name": "stderr",
     "output_type": "stream",
     "text": [
      "\u001b[32mProgress:  10%|████▎                                    |  ETA: 0:00:59\u001b[39m\u001b[K┌ Info: converged in 1037 steps\n",
      "└ @ Criminos /Users/brent/Library/Mobile Documents/com~apple~CloudDocs/Documents/recherche/docs-fairness/Criminos.jl/src/Criminos.jl:195\n",
      "\u001b[32mProgress: 100%|█████████████████████████████████████████| Time: 0:00:06\u001b[39m\u001b[K\n",
      "┌ Info: final eps: 9.931218959464335e-8\n",
      "└ @ Criminos /Users/brent/Library/Mobile Documents/com~apple~CloudDocs/Documents/recherche/docs-fairness/Criminos.jl/src/Criminos.jl:203\n"
     ]
    },
    {
     "data": {
      "text/plain": [
       "@current iterate 17 states:\n",
       "   x: [74.822, 63.7183, 96.2514, 70.2259, 77.4632, 67.4049, 68.7668, 69.4765, 64.6679, 57.7826, 55.2997, 53.8756, 40.091, 29.2249, 11.8417, 3.4477, 0.3761]\n",
       "   x₋: [74.822, 63.7183, 96.2514, 70.2259, 77.4632, 67.4049, 68.7668, 69.4765, 64.6679, 57.7826, 55.2997, 53.8756, 40.091, 29.2249, 11.8417, 3.4477, 0.3761]\n",
       "   ρ: [0.1553, 0.1776, 0.1991, 0.2388, 0.2431, 0.2656, 0.2728, 0.2923, 0.3103, 0.3226, 0.31, 0.3304, 0.343, 0.3805, 0.4389, 0.4986, 0.4717]\n",
       "   y: [11.6195, 11.3149, 19.1646, 16.7706, 18.8298, 17.9036, 18.7619, 20.3052, 20.0633, 18.6426, 17.1427, 17.7988, 13.751, 11.119, 5.1976, 1.7192, 0.1774]\n",
       "   ∑: 240.2814/904.7364\n",
       "   τ: [0.2644, 0.2889, 0.2848, 0.3152, 0.3082, 0.322, 0.3205, 0.3277, 0.3405, 0.3436, 0.3415, 0.3377, 0.3559, 0.363, 0.4112, 0.4415, 0.5421]\n",
       "   I: [0.1827, 0.2099, 0.2053, 0.2391, 0.2313, 0.2466, 0.245, 0.253, 0.2672, 0.2707, 0.2683, 0.2642, 0.2843, 0.2923, 0.3458, 0.3794, 0.4913]\n"
      ]
     },
     "metadata": {},
     "output_type": "display_data"
    }
   ],
   "source": [
    "\n",
    "default_barrier_option.μ = 5e-1\n",
    "Fp(vec_z) = F!(\n",
    "    vec_z, vec_Ψ;\n",
    "    fₜ=Criminos.decision_priority_by_opt!, \n",
    "    targs=(\n",
    "        mipar, default_decision_conic_option,\n",
    "        cvec, 0.1, 1.0, 0.25, δ\n",
    "    ),\n",
    "    fₘ=cc.style_mixin, \n",
    "    margs=_args,\n",
    ")\n",
    "kₑ, ε, traj, bool_opt = Criminos.simulate(\n",
    "    vec_z, vec_Ψ, Fp; K=10000,\n",
    "    metrics=metrics,\n",
    "    tol=1e-7\n",
    ");\n",
    "results[\"conic\"] = traj[end][1]\n"
   ]
  },
  {
   "cell_type": "code",
   "execution_count": 25,
   "metadata": {},
   "outputs": [
    {
     "data": {
      "text/plain": [
       "\"/Users/brent/workspace/Criminos.jl/test.html\""
      ]
     },
     "metadata": {},
     "output_type": "display_data"
    }
   ],
   "source": [
    "fig = generate_empty(cc.bool_use_html)\n",
    "plot!(\n",
    "    1:n, r.y ./ r.x,\n",
    "    labels=L\"$\\bar \\rho$\",\n",
    "    fillalpha=0.3,\n",
    "    linestyle=:dot,\n",
    "    color=series_color[1],\n",
    "    linewidth=3,\n",
    "    legend=:outerbottomright\n",
    ")\n",
    "plot!(\n",
    "    1:n, r.τ,\n",
    "    labels=L\"$\\bar \\tau$\",\n",
    "    fillalpha=0.3,\n",
    "    linestyle=:dot,\n",
    "    linewidth=3,\n",
    "    color=series_color[1],\n",
    ")\n",
    "\n",
    "for (idk, (k, rt)) in enumerate(results)\n",
    "    plot!(\n",
    "        1:n, rt.y ./ rt.x,\n",
    "        labels=L\"$\\rho_{\\textrm{%$k}}$\",\n",
    "        linestyle=:dot,\n",
    "        color=series_color[idk+1],\n",
    "        linewidth=3,\n",
    "    )\n",
    "    plot!(\n",
    "        1:n, rt.τ,\n",
    "        labels=L\"$\\tau_{\\textrm{%$k}}$\",\n",
    "        fillalpha=0.3,\n",
    "        linestyle=:dot,\n",
    "        color=series_color[idk+1],\n",
    "        linewidth=3,\n",
    "    )\n",
    "end\n",
    "savefig(fig, \"test.html\")"
   ]
  },
  {
   "cell_type": "code",
   "execution_count": null,
   "metadata": {},
   "outputs": [],
   "source": [
    "results[\"early\"].ρ"
   ]
  },
  {
   "cell_type": "code",
   "execution_count": null,
   "metadata": {},
   "outputs": [],
   "source": [
    "results[\"late\"].τ"
   ]
  },
  {
   "cell_type": "code",
   "execution_count": null,
   "metadata": {},
   "outputs": [],
   "source": [
    "sum(results[\"early\"].x .* results[\"early\"].τ)\n"
   ]
  },
  {
   "cell_type": "code",
   "execution_count": null,
   "metadata": {},
   "outputs": [],
   "source": [
    "sum(r.x .* r.τ)"
   ]
  }
 ],
 "metadata": {
  "kernelspec": {
   "display_name": "Julia 1.10.3",
   "language": "julia",
   "name": "julia-1.10"
  },
  "language_info": {
   "file_extension": ".jl",
   "mimetype": "application/julia",
   "name": "julia",
   "version": "1.10.3"
  }
 },
 "nbformat": 4,
 "nbformat_minor": 2
}
